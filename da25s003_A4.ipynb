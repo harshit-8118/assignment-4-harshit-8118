{
 "cells": [
  {
   "cell_type": "markdown",
   "id": "a5877fb0",
   "metadata": {},
   "source": [
    "# DA5401: Assignment 4\n",
    "**GMM-Based Synthetic Sampling for Imbalanced Data**\n",
    "\n",
    "**Course:** DA5401  \n",
    "**Topic:** Credit Card Fraud (highly imbalanced)  \n",
    "\n",
    "* **Name:** Harshit Shukla \n",
    "* **Roll No:** DA25S003\n",
    "\n",
    "\n",
    "**Documentation of Code:**"
   ]
  },
  {
   "cell_type": "code",
   "execution_count": 4,
   "id": "e48c0acd",
   "metadata": {},
   "outputs": [],
   "source": [
    "import numpy as np \n",
    "import pandas as pd\n",
    "import matplotlib.pyplot as plt\n",
    "import seaborn as sns\n"
   ]
  },
  {
   "cell_type": "code",
   "execution_count": null,
   "id": "ae2ad2cc",
   "metadata": {},
   "outputs": [],
   "source": []
  },
  {
   "cell_type": "code",
   "execution_count": null,
   "id": "92dd2a8c",
   "metadata": {},
   "outputs": [],
   "source": []
  },
  {
   "cell_type": "code",
   "execution_count": null,
   "metadata": {},
   "outputs": [],
   "source": []
  },
  {
   "cell_type": "code",
   "execution_count": null,
   "metadata": {},
   "outputs": [],
   "source": []
  },
  {
   "cell_type": "code",
   "execution_count": null,
   "id": "438fee42",
   "metadata": {},
   "outputs": [],
   "source": []
  }
 ],
 "metadata": {
  "kernelspec": {
   "display_name": ".venv",
   "language": "python",
   "name": "python3"
  },
  "language_info": {
   "codemirror_mode": {
    "name": "ipython",
    "version": 3
   },
   "file_extension": ".py",
   "mimetype": "text/x-python",
   "name": "python",
   "nbconvert_exporter": "python",
   "pygments_lexer": "ipython3",
   "version": "3.8.10"
  }
 },
 "nbformat": 4,
 "nbformat_minor": 5
}
