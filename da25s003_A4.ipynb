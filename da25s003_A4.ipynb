{
 "cells": [
  {
   "cell_type": "markdown",
   "id": "a5877fb0",
   "metadata": {},
   "source": [
    "# DA5401: Assignment 4\n",
    "**GMM-Based Synthetic Sampling for Imbalanced Data**\n",
    "\n",
    "**Course:** DA5401  \n",
    "**Topic:** Credit Card Fraud (highly imbalanced)  \n",
    "\n",
    "* **Name:** Harshit Shukla \n",
    "* **Roll No:** DA25S003\n",
    "\n",
    "\n",
    "**Documentation of Code:**"
   ]
  },
  {
   "cell_type": "code",
   "execution_count": 2,
   "id": "e48c0acd",
   "metadata": {},
   "outputs": [],
   "source": [
    "# Importing necessary libraries\n",
    "\n",
    "import pandas as pd\n",
    "import numpy as np\n",
    "import matplotlib.pyplot as plt \n",
    "import seaborn as sns\n",
    "from sklearn.linear_model import LogisticRegression\n",
    "from sklearn.model_selection import train_test_split\n",
    "from sklearn.metrics import (classification_report,\n",
    "                            confusion_matrix, \n",
    "                            accuracy_score, \n",
    "                            roc_auc_score, \n",
    "                            roc_curve,\n",
    "                            precision_recall_curve)\n",
    "from sklearn.preprocessing import StandardScaler\n",
    "\n",
    "from collections import Counter\n",
    "from imblearn.over_sampling import SMOTE\n",
    "from sklearn.pipeline import Pipeline\n",
    "\n",
    "\n",
    "import warnings\n",
    "warnings.filterwarnings('ignore')\n",
    "\n",
    "plt.rcParams['figure.figsize'] = (10, 6)\n",
    "plt.rcParams['axes.grid'] = True\n",
    "pd.set_option('display.max_columns', None)\n",
    "pd.set_option('display.max_rows', None) \n",
    "\n",
    "\n",
    "Random_State = 42   \n",
    "np.random.seed(Random_State)"
   ]
  },
  {
   "cell_type": "code",
   "execution_count": null,
   "id": "ae2ad2cc",
   "metadata": {},
   "outputs": [],
   "source": []
  },
  {
   "cell_type": "code",
   "execution_count": null,
   "id": "92dd2a8c",
   "metadata": {},
   "outputs": [],
   "source": []
  },
  {
   "cell_type": "code",
   "execution_count": null,
   "metadata": {},
   "outputs": [],
   "source": []
  },
  {
   "cell_type": "code",
   "execution_count": null,
   "metadata": {},
   "outputs": [],
   "source": []
  },
  {
   "cell_type": "code",
   "execution_count": null,
   "id": "438fee42",
   "metadata": {},
   "outputs": [],
   "source": []
  }
 ],
 "metadata": {
  "kernelspec": {
   "display_name": "dalab",
   "language": "python",
   "name": "python3"
  },
  "language_info": {
   "codemirror_mode": {
    "name": "ipython",
    "version": 3
   },
   "file_extension": ".py",
   "mimetype": "text/x-python",
   "name": "python",
   "nbconvert_exporter": "python",
   "pygments_lexer": "ipython3",
   "version": "3.8.10"
  }
 },
 "nbformat": 4,
 "nbformat_minor": 5
}
