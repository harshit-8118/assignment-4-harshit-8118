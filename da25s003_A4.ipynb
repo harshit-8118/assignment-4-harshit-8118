{
 "cells": [
  {
   "cell_type": "markdown",
   "id": "a5877fb0",
   "metadata": {},
   "source": [
    "# DA5401: Assignment 4\n",
    "**GMM-Based Synthetic Sampling for Imbalanced Data**\n",
    "\n",
    "**Course:** DA5401  \n",
    "**Topic:** Credit Card Fraud (highly imbalanced)  \n",
    "\n",
    "* **Name:** Harshit Shukla \n",
    "* **Roll No:** DA25S003\n",
    "\n",
    "\n",
    "**Documentation of Code:**"
   ]
  },
  {
   "cell_type": "code",
   "execution_count": null,
   "id": "e48c0acd",
   "metadata": {},
   "outputs": [],
   "source": []
  },
  {
   "cell_type": "code",
   "execution_count": null,
   "id": "ae2ad2cc",
   "metadata": {},
   "outputs": [],
   "source": []
  },
  {
   "cell_type": "code",
   "execution_count": null,
   "id": "92dd2a8c",
   "metadata": {},
   "outputs": [],
   "source": []
  },
  {
   "cell_type": "code",
   "execution_count": null,
   "metadata": {},
   "outputs": [],
   "source": []
  },
  {
   "cell_type": "code",
   "execution_count": null,
   "metadata": {},
   "outputs": [],
   "source": []
  },
  {
   "cell_type": "code",
   "execution_count": null,
   "id": "438fee42",
   "metadata": {},
   "outputs": [],
   "source": []
  }
 ],
 "metadata": {
  "language_info": {
   "name": "python"
  }
 },
 "nbformat": 4,
 "nbformat_minor": 5
}
